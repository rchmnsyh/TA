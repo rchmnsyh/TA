{
 "cells": [
  {
   "cell_type": "code",
   "execution_count": 1,
   "metadata": {},
   "outputs": [],
   "source": [
    "import pandas as pd\n",
    "import json"
   ]
  },
  {
   "cell_type": "code",
   "execution_count": 2,
   "metadata": {},
   "outputs": [
    {
     "data": {
      "text/plain": [
       "{'completions': [{'created_at': 1600597597,\n",
       "   'id': 1,\n",
       "   'lead_time': 49.482,\n",
       "   'result': [{'from_name': 'label',\n",
       "     'id': 'nLAogirWJe',\n",
       "     'parent_id': None,\n",
       "     'source': '$text',\n",
       "     'to_name': 'text',\n",
       "     'type': 'labels',\n",
       "     'value': {'end': 15,\n",
       "      'labels': ['Positive', 'Food'],\n",
       "      'start': 0,\n",
       "      'text': 'the best burger'}},\n",
       "    {'from_name': 'label',\n",
       "     'id': '1D7sQDHDJC',\n",
       "     'parent_id': None,\n",
       "     'source': '$text',\n",
       "     'to_name': 'text',\n",
       "     'type': 'labels',\n",
       "     'value': {'end': 256,\n",
       "      'labels': ['Positive', 'Miscellaneous'],\n",
       "      'start': 216,\n",
       "      'text': 'this place blew my mind and taste palate'}},\n",
       "    {'from_name': 'label',\n",
       "     'id': 'tEkMx2heRJ',\n",
       "     'parent_id': None,\n",
       "     'source': '$text',\n",
       "     'to_name': 'text',\n",
       "     'type': 'labels',\n",
       "     'value': {'end': 286,\n",
       "      'labels': ['Positive', 'Food'],\n",
       "      'start': 265,\n",
       "      'text': 'the best burger i ate'}},\n",
       "    {'from_name': 'label',\n",
       "     'id': '18S3Wlq4-_',\n",
       "     'parent_id': None,\n",
       "     'source': '$text',\n",
       "     'to_name': 'text',\n",
       "     'type': 'labels',\n",
       "     'value': {'end': 579,\n",
       "      'labels': ['Positive', 'Food'],\n",
       "      'start': 550,\n",
       "      'text': 'all of them spectacular stuff'}}]}],\n",
       " 'data': {'text': \"the best burger i had in a while. this place was a reccomendation from a friend of mine who studies in bandung, so when i visited him i checked this place out. being from jakarta, where there are great burger joint, this place blew my mind and taste palate, easily the best burger i ate for a looong time. maybe it was destiny? maybe it was luck? no. that's not it. it is the work and magic of the great people behind the burger.  p.s. i ordered the loaded fries, boss of the buns, crisp over colombus, chocolate milkshake, and some loco moco to go. all of them spectacular stuff.  i urge you burger lovers to come and check this place out, preferably when its empty/relatively empty, because once you eat those burger, you will want some privacy. i guarantee that!\"},\n",
       " 'id': 0}"
      ]
     },
     "execution_count": 2,
     "metadata": {},
     "output_type": "execute_result"
    }
   ],
   "source": [
    "with open(\"Dataset/result-jek.json\", 'r', encoding=\"cp866\") as input_file:\n",
    "    data = input_file.read()\n",
    "    structure = json.loads(data)\n",
    "structure[0]"
   ]
  },
  {
   "cell_type": "code",
   "execution_count": 3,
   "metadata": {},
   "outputs": [
    {
     "data": {
      "text/plain": [
       "\"the best burger i had in a while. this place was a reccomendation from a friend of mine who studies in bandung, so when i visited him i checked this place out. being from jakarta, where there are great burger joint, this place blew my mind and taste palate, easily the best burger i ate for a looong time. maybe it was destiny? maybe it was luck? no. that's not it. it is the work and magic of the great people behind the burger.  p.s. i ordered the loaded fries, boss of the buns, crisp over colombus, chocolate milkshake, and some loco moco to go. all of them spectacular stuff.  i urge you burger lovers to come and check this place out, preferably when its empty/relatively empty, because once you eat those burger, you will want some privacy. i guarantee that!\""
      ]
     },
     "execution_count": 3,
     "metadata": {},
     "output_type": "execute_result"
    }
   ],
   "source": [
    "structure[0][\"data\"][\"text\"]"
   ]
  },
  {
   "cell_type": "code",
   "execution_count": 4,
   "metadata": {},
   "outputs": [
    {
     "name": "stdout",
     "output_type": "stream",
     "text": [
      "[{\"end\": 15, \"labels\": [\"Positive\", \"Food\"], \"start\": 0, \"text\": \"the best burger\"}, {\"end\": 256, \"labels\": [\"Positive\", \"Miscellaneous\"], \"start\": 216, \"text\": \"this place blew my mind and taste palate\"}, {\"end\": 286, \"labels\": [\"Positive\", \"Food\"], \"start\": 265, \"text\": \"the best burger i ate\"}, {\"end\": 579, \"labels\": [\"Positive\", \"Food\"], \"start\": 550, \"text\": \"all of them spectacular stuff\"}]\n"
     ]
    }
   ],
   "source": [
    "label = []\n",
    "for data in structure[0][\"completions\"][0][\"result\"]: \n",
    "    label.append(data[\"value\"])\n",
    "label = ''.join(str(label))\n",
    "label = label.replace(\"'\", '\"')\n",
    "print(label)"
   ]
  },
  {
   "cell_type": "code",
   "execution_count": 43,
   "metadata": {},
   "outputs": [
    {
     "data": {
      "text/html": [
       "<div>\n",
       "<style scoped>\n",
       "    .dataframe tbody tr th:only-of-type {\n",
       "        vertical-align: middle;\n",
       "    }\n",
       "\n",
       "    .dataframe tbody tr th {\n",
       "        vertical-align: top;\n",
       "    }\n",
       "\n",
       "    .dataframe thead th {\n",
       "        text-align: right;\n",
       "    }\n",
       "</style>\n",
       "<table border=\"1\" class=\"dataframe\">\n",
       "  <thead>\n",
       "    <tr style=\"text-align: right;\">\n",
       "      <th></th>\n",
       "      <th>text</th>\n",
       "      <th>label</th>\n",
       "    </tr>\n",
       "  </thead>\n",
       "  <tbody>\n",
       "    <tr>\n",
       "      <th>0</th>\n",
       "      <td>the best burger i had in a while. this place w...</td>\n",
       "      <td>[{\"end\": 15, \"labels\": [\"Positive\", \"Food\"], \"...</td>\n",
       "    </tr>\n",
       "    <tr>\n",
       "      <th>1</th>\n",
       "      <td>burger dari brother jonn &amp; sons menurut aku ja...</td>\n",
       "      <td>[{\"end\": 76, \"labels\": [\"Positive\", \"Food\"], \"...</td>\n",
       "    </tr>\n",
       "    <tr>\n",
       "      <th>2</th>\n",
       "      <td>everytime i come here, its very difficult for ...</td>\n",
       "      <td>[{\"end\": 107, \"labels\": [\"Positive\", \"Food\"], ...</td>\n",
       "    </tr>\n",
       "    <tr>\n",
       "      <th>3</th>\n",
       "      <td>biasanya kesini kalau habis belanja di toko or...</td>\n",
       "      <td>[{\"end\": 121, \"labels\": [\"Positive\", \"Ambience...</td>\n",
       "    </tr>\n",
       "    <tr>\n",
       "      <th>4</th>\n",
       "      <td>foods are okay. but i have to say, you can get...</td>\n",
       "      <td>[{\"end\": 14, \"labels\": [\"Positive\", \"Food\"], \"...</td>\n",
       "    </tr>\n",
       "    <tr>\n",
       "      <th>...</th>\n",
       "      <td>...</td>\n",
       "      <td>...</td>\n",
       "    </tr>\n",
       "    <tr>\n",
       "      <th>427</th>\n",
       "      <td>yang enak nasgornya sih, malah gk kefoto . piz...</td>\n",
       "      <td>[{\"end\": 19, \"labels\": [\"Positive\", \"Food\"], \"...</td>\n",
       "    </tr>\n",
       "    <tr>\n",
       "      <th>428</th>\n",
       "      <td>kalau di resto ini kita mengambil tempat di ar...</td>\n",
       "      <td>[{\"end\": 109, \"labels\": [\"Positive\", \"Miscella...</td>\n",
       "    </tr>\n",
       "    <tr>\n",
       "      <th>429</th>\n",
       "      <td>buat kalian yg mau ke bdg. ini wajib jadi wish...</td>\n",
       "      <td>[{\"end\": 51, \"labels\": [\"Positive\", \"Miscellan...</td>\n",
       "    </tr>\n",
       "    <tr>\n",
       "      <th>430</th>\n",
       "      <td>order truffle steak (120k) &amp; mozarella steak (...</td>\n",
       "      <td>[{\"end\": 66, \"labels\": [\"Positive\", \"Food\"], \"...</td>\n",
       "    </tr>\n",
       "    <tr>\n",
       "      <th>431</th>\n",
       "      <td>first time came to this place . set the expect...</td>\n",
       "      <td>[{\"end\": 101, \"labels\": [\"Positive\", \"Food\"], ...</td>\n",
       "    </tr>\n",
       "  </tbody>\n",
       "</table>\n",
       "<p>432 rows × 2 columns</p>\n",
       "</div>"
      ],
      "text/plain": [
       "                                                  text  \\\n",
       "0    the best burger i had in a while. this place w...   \n",
       "1    burger dari brother jonn & sons menurut aku ja...   \n",
       "2    everytime i come here, its very difficult for ...   \n",
       "3    biasanya kesini kalau habis belanja di toko or...   \n",
       "4    foods are okay. but i have to say, you can get...   \n",
       "..                                                 ...   \n",
       "427  yang enak nasgornya sih, malah gk kefoto . piz...   \n",
       "428  kalau di resto ini kita mengambil tempat di ar...   \n",
       "429  buat kalian yg mau ke bdg. ini wajib jadi wish...   \n",
       "430  order truffle steak (120k) & mozarella steak (...   \n",
       "431  first time came to this place . set the expect...   \n",
       "\n",
       "                                                 label  \n",
       "0    [{\"end\": 15, \"labels\": [\"Positive\", \"Food\"], \"...  \n",
       "1    [{\"end\": 76, \"labels\": [\"Positive\", \"Food\"], \"...  \n",
       "2    [{\"end\": 107, \"labels\": [\"Positive\", \"Food\"], ...  \n",
       "3    [{\"end\": 121, \"labels\": [\"Positive\", \"Ambience...  \n",
       "4    [{\"end\": 14, \"labels\": [\"Positive\", \"Food\"], \"...  \n",
       "..                                                 ...  \n",
       "427  [{\"end\": 19, \"labels\": [\"Positive\", \"Food\"], \"...  \n",
       "428  [{\"end\": 109, \"labels\": [\"Positive\", \"Miscella...  \n",
       "429  [{\"end\": 51, \"labels\": [\"Positive\", \"Miscellan...  \n",
       "430  [{\"end\": 66, \"labels\": [\"Positive\", \"Food\"], \"...  \n",
       "431  [{\"end\": 101, \"labels\": [\"Positive\", \"Food\"], ...  \n",
       "\n",
       "[432 rows x 2 columns]"
      ]
     },
     "execution_count": 43,
     "metadata": {},
     "output_type": "execute_result"
    }
   ],
   "source": [
    "df_2 = pd.DataFrame(columns=['text', 'label'])\n",
    "for i in range(len(structure)):\n",
    "    text = str(structure[i][\"data\"][\"text\"])\n",
    "    label = []\n",
    "    for data in structure[i][\"completions\"][0][\"result\"]: \n",
    "        label.append(data[\"value\"])\n",
    "    label = ''.join(str(label))\n",
    "    label = label.replace(\"'\", '\"')\n",
    "    \n",
    "    # custom replace for errorhandling\n",
    "    label = label.replace('it\"s', \"its\")\n",
    "    label = label.replace('i\"ve', \"I have\")\n",
    "    label = label.replace('you\"d', \"you would\")\n",
    "    label = label.replace('n\"t', \" not\")\n",
    "#     label = label.replace('wouldn\"t', \"would not\")\n",
    "#     label = label.replace('don\"t', \"dont\")\n",
    "#     label = label.replace('wasn\"t', \"was not\")\n",
    "    label = label.replace('can\"t', \"cant\")\n",
    "    label = label.replace('won\"t', \"wont\")\n",
    "    label = label.replace('ramah\",', \"ramah,\")\n",
    "    label = label.replace('soup\"s', \"soup\")\n",
    "    label = label.replace('\"grilled\"', \"grilled\")\n",
    "    label = label.replace('france\"s', \"france\")\n",
    "    label = label.replace('you\\\\\"re', \"you are\")\n",
    "    label = label.replace('if you are \"instagramable\"', \"if you are instagramable\") # NABRAK!!!\n",
    "    label = label.replace('semahal\"nya', \"mahal\")\n",
    "    \n",
    "    # replace yg salah labeling\n",
    "    label = label.replace('[\"Positive\"]', '[\"Positive\", \"O\"]')\n",
    "    label = label.replace('[\"Negaive\"]', '[\"Negative\", \"O\"]')\n",
    "    \n",
    "    df_2.loc[i] = [text, str(label)]\n",
    "df_2"
   ]
  },
  {
   "cell_type": "code",
   "execution_count": 44,
   "metadata": {},
   "outputs": [],
   "source": [
    "df_2.to_csv(r'Dataset\\result-jek.csv', index = False)"
   ]
  },
  {
   "cell_type": "code",
   "execution_count": null,
   "metadata": {},
   "outputs": [],
   "source": []
  }
 ],
 "metadata": {
  "kernelspec": {
   "display_name": "Python 3",
   "language": "python",
   "name": "python3"
  },
  "language_info": {
   "codemirror_mode": {
    "name": "ipython",
    "version": 3
   },
   "file_extension": ".py",
   "mimetype": "text/x-python",
   "name": "python",
   "nbconvert_exporter": "python",
   "pygments_lexer": "ipython3",
   "version": "3.7.4"
  }
 },
 "nbformat": 4,
 "nbformat_minor": 2
}
