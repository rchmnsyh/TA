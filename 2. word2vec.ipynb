{
 "cells": [
  {
   "cell_type": "code",
   "execution_count": 15,
   "metadata": {},
   "outputs": [],
   "source": [
    "import pandas as pd\n",
    "import numpy as np\n",
    "from gensim.models import word2vec\n",
    "\n",
    "import time\n",
    "import multiprocessing\n",
    "from datetime import timedelta"
   ]
  },
  {
   "cell_type": "code",
   "execution_count": 2,
   "metadata": {},
   "outputs": [
    {
     "data": {
      "text/html": [
       "<div>\n",
       "<style scoped>\n",
       "    .dataframe tbody tr th:only-of-type {\n",
       "        vertical-align: middle;\n",
       "    }\n",
       "\n",
       "    .dataframe tbody tr th {\n",
       "        vertical-align: top;\n",
       "    }\n",
       "\n",
       "    .dataframe thead th {\n",
       "        text-align: right;\n",
       "    }\n",
       "</style>\n",
       "<table border=\"1\" class=\"dataframe\">\n",
       "  <thead>\n",
       "    <tr style=\"text-align: right;\">\n",
       "      <th></th>\n",
       "      <th>Kalimat #</th>\n",
       "      <th>Word</th>\n",
       "      <th>Tag</th>\n",
       "    </tr>\n",
       "  </thead>\n",
       "  <tbody>\n",
       "    <tr>\n",
       "      <th>0</th>\n",
       "      <td>0</td>\n",
       "      <td>tiap</td>\n",
       "      <td>O</td>\n",
       "    </tr>\n",
       "    <tr>\n",
       "      <th>1</th>\n",
       "      <td>0</td>\n",
       "      <td>makan</td>\n",
       "      <td>O</td>\n",
       "    </tr>\n",
       "    <tr>\n",
       "      <th>2</th>\n",
       "      <td>0</td>\n",
       "      <td>kesini</td>\n",
       "      <td>O</td>\n",
       "    </tr>\n",
       "    <tr>\n",
       "      <th>3</th>\n",
       "      <td>0</td>\n",
       "      <td>ngga</td>\n",
       "      <td>O</td>\n",
       "    </tr>\n",
       "    <tr>\n",
       "      <th>4</th>\n",
       "      <td>0</td>\n",
       "      <td>pernah</td>\n",
       "      <td>O</td>\n",
       "    </tr>\n",
       "    <tr>\n",
       "      <th>...</th>\n",
       "      <td>...</td>\n",
       "      <td>...</td>\n",
       "      <td>...</td>\n",
       "    </tr>\n",
       "    <tr>\n",
       "      <th>50531</th>\n",
       "      <td>859</td>\n",
       "      <td>portions</td>\n",
       "      <td>I-FOOD</td>\n",
       "    </tr>\n",
       "    <tr>\n",
       "      <th>50532</th>\n",
       "      <td>859</td>\n",
       "      <td>way</td>\n",
       "      <td>I-FOOD</td>\n",
       "    </tr>\n",
       "    <tr>\n",
       "      <th>50533</th>\n",
       "      <td>859</td>\n",
       "      <td>too</td>\n",
       "      <td>I-FOOD</td>\n",
       "    </tr>\n",
       "    <tr>\n",
       "      <th>50534</th>\n",
       "      <td>859</td>\n",
       "      <td>small</td>\n",
       "      <td>I-FOOD</td>\n",
       "    </tr>\n",
       "    <tr>\n",
       "      <th>50535</th>\n",
       "      <td>859</td>\n",
       "      <td>p</td>\n",
       "      <td>O</td>\n",
       "    </tr>\n",
       "  </tbody>\n",
       "</table>\n",
       "<p>50536 rows × 3 columns</p>\n",
       "</div>"
      ],
      "text/plain": [
       "       Kalimat #      Word     Tag\n",
       "0              0      tiap       O\n",
       "1              0     makan       O\n",
       "2              0    kesini       O\n",
       "3              0      ngga       O\n",
       "4              0    pernah       O\n",
       "...          ...       ...     ...\n",
       "50531        859  portions  I-FOOD\n",
       "50532        859       way  I-FOOD\n",
       "50533        859       too  I-FOOD\n",
       "50534        859     small  I-FOOD\n",
       "50535        859         p       O\n",
       "\n",
       "[50536 rows x 3 columns]"
      ]
     },
     "execution_count": 2,
     "metadata": {},
     "output_type": "execute_result"
    }
   ],
   "source": [
    "df = pd.read_csv(\"Dataset/dataset_fix.csv\")\n",
    "df"
   ]
  },
  {
   "cell_type": "code",
   "execution_count": 3,
   "metadata": {},
   "outputs": [
    {
     "data": {
      "text/plain": [
       "7552"
      ]
     },
     "execution_count": 3,
     "metadata": {},
     "output_type": "execute_result"
    }
   ],
   "source": [
    "len(df[\"Word\"].unique())"
   ]
  },
  {
   "cell_type": "code",
   "execution_count": 4,
   "metadata": {},
   "outputs": [],
   "source": [
    "text = []\n",
    "for i in range(1,df[\"Kalimat #\"].max()+1):\n",
    "    # print(i)\n",
    "    kalimat = []\n",
    "    for kata in df[df[\"Kalimat #\"] == i].Word:\n",
    "        kata = str(kata)\n",
    "        kalimat.append(kata)\n",
    "    # print(kalimat)\n",
    "    # kalimat = \" \".join(kalimat)\n",
    "    text.append(kalimat)"
   ]
  },
  {
   "cell_type": "code",
   "execution_count": 25,
   "metadata": {},
   "outputs": [
    {
     "name": "stdout",
     "output_type": "stream",
     "text": [
      "Training Word2Vec Model...\n",
      "Finished. Elapsed time: 0:00:00.661383\n"
     ]
    }
   ],
   "source": [
    "start_time = time.time()\n",
    "print('Training Word2Vec Model...')\n",
    "id_w2v = word2vec.Word2Vec(text, size=128, window=5, workers=multiprocessing.cpu_count()-1)\n",
    "id_w2v.save('Model/w2v.model')\n",
    "finish_time = time.time()\n",
    "print('Finished. Elapsed time: {}'.format(timedelta(seconds=finish_time-start_time)))"
   ]
  },
  {
   "cell_type": "code",
   "execution_count": 26,
   "metadata": {},
   "outputs": [],
   "source": [
    "word_vector = id_w2v.wv"
   ]
  },
  {
   "cell_type": "code",
   "execution_count": 27,
   "metadata": {},
   "outputs": [
    {
     "data": {
      "text/plain": [
       "[('ada', 0.9999441504478455),\n",
       " ('jadi', 0.9999405145645142),\n",
       " ('rasanya', 0.9999364614486694),\n",
       " ('karena', 0.9999353289604187),\n",
       " ('ga', 0.9999352693557739),\n",
       " ('tempatnya', 0.9999309778213501),\n",
       " ('saya', 0.9999299049377441),\n",
       " ('yg', 0.9999290704727173),\n",
       " ('untuk', 0.999928891658783),\n",
       " ('kurang', 0.99992835521698)]"
      ]
     },
     "execution_count": 27,
     "metadata": {},
     "output_type": "execute_result"
    }
   ],
   "source": [
    "w = \"makanan\"\n",
    "word_vector.most_similar(w)"
   ]
  },
  {
   "cell_type": "code",
   "execution_count": 8,
   "metadata": {},
   "outputs": [],
   "source": [
    "idwiki_100 = word2vec.Word2Vec.load(\"Model/idwiki_word2vec_100.model\")\n",
    "idwiki_200 = word2vec.Word2Vec.load(\"Model/idwiki_word2vec_200.model\")\n",
    "idwiki_300 = word2vec.Word2Vec.load(\"Model/idwiki_word2vec_300.model\")"
   ]
  },
  {
   "cell_type": "code",
   "execution_count": 9,
   "metadata": {},
   "outputs": [
    {
     "name": "stderr",
     "output_type": "stream",
     "text": [
      "C:\\Users\\rachm\\Anaconda3\\lib\\site-packages\\ipykernel_launcher.py:1: DeprecationWarning: Call to deprecated `most_similar` (Method will be removed in 4.0.0, use self.wv.most_similar() instead).\n",
      "  \"\"\"Entry point for launching an IPython kernel.\n"
     ]
    },
    {
     "data": {
      "text/plain": [
       "[('minuman', 0.7553930878639221),\n",
       " ('sayuran', 0.7550625801086426),\n",
       " ('hidangan', 0.7483913898468018),\n",
       " ('daging', 0.7375621795654297),\n",
       " ('masakan', 0.7172369360923767),\n",
       " ('penganan', 0.6943979263305664),\n",
       " ('dagingnya', 0.6922298669815063),\n",
       " ('makan', 0.6910635232925415),\n",
       " ('lauk', 0.6897751092910767),\n",
       " ('sayur', 0.689528226852417)]"
      ]
     },
     "execution_count": 9,
     "metadata": {},
     "output_type": "execute_result"
    }
   ],
   "source": [
    "idwiki_100.most_similar(w)"
   ]
  },
  {
   "cell_type": "code",
   "execution_count": 10,
   "metadata": {},
   "outputs": [
    {
     "name": "stderr",
     "output_type": "stream",
     "text": [
      "C:\\Users\\rachm\\Anaconda3\\lib\\site-packages\\ipykernel_launcher.py:1: DeprecationWarning: Call to deprecated `most_similar` (Method will be removed in 4.0.0, use self.wv.most_similar() instead).\n",
      "  \"\"\"Entry point for launching an IPython kernel.\n"
     ]
    },
    {
     "data": {
      "text/plain": [
       "[('hidangan', 0.7060810327529907),\n",
       " ('minuman', 0.6646443605422974),\n",
       " ('masakan', 0.6525181531906128),\n",
       " ('daging', 0.6479215621948242),\n",
       " ('sayuran', 0.643390417098999),\n",
       " ('pakan', 0.6276005506515503),\n",
       " ('jajanan', 0.6249856352806091),\n",
       " ('nutrisi', 0.6226201057434082),\n",
       " ('sajian', 0.6139245629310608),\n",
       " ('makan', 0.6124954223632812)]"
      ]
     },
     "execution_count": 10,
     "metadata": {},
     "output_type": "execute_result"
    }
   ],
   "source": [
    "idwiki_200.most_similar(w)"
   ]
  },
  {
   "cell_type": "code",
   "execution_count": 11,
   "metadata": {},
   "outputs": [
    {
     "name": "stderr",
     "output_type": "stream",
     "text": [
      "C:\\Users\\rachm\\Anaconda3\\lib\\site-packages\\ipykernel_launcher.py:1: DeprecationWarning: Call to deprecated `most_similar` (Method will be removed in 4.0.0, use self.wv.most_similar() instead).\n",
      "  \"\"\"Entry point for launching an IPython kernel.\n"
     ]
    },
    {
     "data": {
      "text/plain": [
       "[('hidangan', 0.6628608703613281),\n",
       " ('minuman', 0.6179170608520508),\n",
       " ('sayuran', 0.6050371527671814),\n",
       " ('masakan', 0.6007183790206909),\n",
       " ('daging', 0.5991817116737366),\n",
       " ('penganan', 0.5940256118774414),\n",
       " ('lauk', 0.5920421481132507),\n",
       " ('nutrisi', 0.5871155261993408),\n",
       " ('dagingnya', 0.5867141485214233),\n",
       " ('sayur', 0.5827234387397766)]"
      ]
     },
     "execution_count": 11,
     "metadata": {},
     "output_type": "execute_result"
    }
   ],
   "source": [
    "idwiki_300.most_similar(w)"
   ]
  },
  {
   "cell_type": "code",
   "execution_count": 12,
   "metadata": {},
   "outputs": [
    {
     "data": {
      "text/plain": [
       "['makanannya', 'semuanya', 'enak']"
      ]
     },
     "execution_count": 12,
     "metadata": {},
     "output_type": "execute_result"
    }
   ],
   "source": [
    "kalimat = \"makanannya semuanya enak\"\n",
    "kalimat = kalimat.split(\" \")\n",
    "lenkalimat"
   ]
  },
  {
   "cell_type": "code",
   "execution_count": 20,
   "metadata": {},
   "outputs": [
    {
     "name": "stdout",
     "output_type": "stream",
     "text": [
      "(3, 100)\n",
      "(100,)\n"
     ]
    },
    {
     "data": {
      "text/plain": [
       "array([-0.25075826, -0.29618707,  0.3597609 ,  0.3804088 , -0.03664076,\n",
       "        0.00696336, -0.28764245, -0.81779814,  0.01729947,  0.11699578,\n",
       "       -0.00735264,  0.27788794,  0.30311206, -0.02951624,  0.45141605,\n",
       "       -0.16046435,  0.45332178,  0.37858567, -0.01473929,  0.780709  ,\n",
       "       -0.351015  ,  0.31244412,  0.3345933 , -0.9433171 ,  0.00825056,\n",
       "       -0.2494713 ,  0.14989653,  0.5981594 ,  0.1844994 ,  0.2374355 ,\n",
       "        0.3095661 ,  0.04400042,  0.23341723, -0.48913956,  0.0483411 ,\n",
       "        0.3929092 ,  0.40398636, -0.3229534 ,  0.1868012 ,  0.3146179 ,\n",
       "       -0.31055996, -0.16653554, -0.34471834, -0.09718906,  0.06313929,\n",
       "        0.35357225, -0.3892912 ,  0.23366018,  0.29911795,  0.0660849 ,\n",
       "        0.08628378,  0.0826899 ,  0.50603294, -0.34857345,  0.08185637,\n",
       "        0.21067552,  0.14430411, -0.03840889, -0.431478  , -0.24369657,\n",
       "       -0.09113189, -0.41558567,  0.2515831 ,  0.16005217,  0.29218322,\n",
       "        0.4610153 ,  0.07542375,  0.11333462, -0.16318345, -0.51623535,\n",
       "        0.22795145,  0.5602228 ,  0.18411642, -0.6020656 , -0.57277167,\n",
       "       -0.45537424, -0.13967204, -0.00218262, -0.03501967,  0.45826045,\n",
       "       -0.12854715,  0.07692614,  0.12915672,  0.5370741 , -0.83663064,\n",
       "       -0.29966095,  0.6686166 ,  0.10206249, -0.09508011,  0.15348533,\n",
       "        0.34019986, -0.1377349 , -0.00129473,  0.3495901 ,  0.37283477,\n",
       "       -0.35094   , -0.3776478 , -0.59182435, -0.14343132,  0.20631377],\n",
       "      dtype=float32)"
      ]
     },
     "execution_count": 20,
     "metadata": {},
     "output_type": "execute_result"
    }
   ],
   "source": [
    "wv_kalimat = word_vector[kalimat]\n",
    "print(wv_kalimat.shape)\n",
    "avg = np.average(wv_kalimat, axis=0)\n",
    "print(avg.shape)\n",
    "avg"
   ]
  },
  {
   "cell_type": "code",
   "execution_count": null,
   "metadata": {},
   "outputs": [],
   "source": []
  }
 ],
 "metadata": {
  "kernelspec": {
   "display_name": "Python 3",
   "language": "python",
   "name": "python3"
  },
  "language_info": {
   "codemirror_mode": {
    "name": "ipython",
    "version": 3
   },
   "file_extension": ".py",
   "mimetype": "text/x-python",
   "name": "python",
   "nbconvert_exporter": "python",
   "pygments_lexer": "ipython3",
   "version": "3.7.4"
  }
 },
 "nbformat": 4,
 "nbformat_minor": 2
}
